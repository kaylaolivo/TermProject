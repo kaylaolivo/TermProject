{
 "cells": [
  {
   "cell_type": "markdown",
   "metadata": {},
   "source": [
    "# Team: Kayla and Hariraj"
   ]
  },
  {
   "cell_type": "markdown",
   "metadata": {},
   "source": [
    "# Dataset3: Alcohol Sales"
   ]
  },
  {
   "cell_type": "markdown",
   "metadata": {},
   "source": [
    "https://www.kaggle.com/datasets/bulentsiyah/for-simple-exercises-time-series-forecasting/data?select=Alcohol_Sales.csv"
   ]
  },
  {
   "cell_type": "markdown",
   "metadata": {},
   "source": [
    "# Preamble"
   ]
  },
  {
   "cell_type": "code",
   "execution_count": 202,
   "metadata": {},
   "outputs": [],
   "source": [
    "# import relevant Python libraries\n",
    "\n",
    "import numpy as np\n",
    "import pandas as pd\n",
    "from matplotlib import pyplot as plt\n",
    "from sklearn.preprocessing import StandardScaler\n",
    "from sklearn.model_selection import cross_val_predict, KFold, cross_val_score\n",
    "from sklearn.linear_model import LinearRegression, RidgeCV\n",
    "from sklearn.metrics import mean_squared_error, r2_score\n",
    "from sklearn.pipeline import make_pipeline\n",
    "import seaborn as sns\n",
    "\n"
   ]
  },
  {
   "cell_type": "markdown",
   "metadata": {},
   "source": [
    "# A. Exploration of Dataset"
   ]
  },
  {
   "cell_type": "code",
   "execution_count": 203,
   "metadata": {},
   "outputs": [
    {
     "name": "stdout",
     "output_type": "stream",
     "text": [
      "[RangeIndex(start=0, stop=325, step=1), Index(['DATE', 'S4248SM144NCEN'], dtype='object')]\n",
      "DATE              object\n",
      "S4248SM144NCEN     int64\n",
      "dtype: object\n",
      "         DATE  S4248SM144NCEN\n",
      "0  1992-01-01            3459\n",
      "1  1992-02-01            3458\n",
      "2  1992-03-01            4002\n",
      "3  1992-04-01            4564\n",
      "4  1992-05-01            4221\n",
      "5  1992-06-01            4529\n",
      "6  1992-07-01            4466\n",
      "7  1992-08-01            4137\n",
      "8  1992-09-01            4126\n",
      "9  1992-10-01            4259\n"
     ]
    }
   ],
   "source": [
    "df_alcohol_sales =pd.read_csv('Alcohol_Sales.csv')\n",
    "num_samples = df_alcohol_sales.shape[0]\n",
    "num_variables = df_alcohol_sales.shape[1]\n",
    "print(df_alcohol_sales.axes)\n",
    "print(df_alcohol_sales.dtypes)\n",
    "print(df_alcohol_sales.head(10))"
   ]
  },
  {
   "cell_type": "code",
   "execution_count": 204,
   "metadata": {},
   "outputs": [
    {
     "name": "stdout",
     "output_type": "stream",
     "text": [
      "There are  325 samples and  2 raw features\n"
     ]
    }
   ],
   "source": [
    "\n",
    "print(\"There are \", num_samples, 'samples and ', num_variables, 'raw features')\n"
   ]
  },
  {
   "cell_type": "code",
   "execution_count": 205,
   "metadata": {},
   "outputs": [
    {
     "name": "stdout",
     "output_type": "stream",
     "text": [
      "There are 0 columns with missing values.\n"
     ]
    }
   ],
   "source": [
    "columns = df_alcohol_sales.columns\n",
    "\n",
    "\n",
    "\n",
    "\n",
    "isna_columns = []\n",
    "for x in columns:\n",
    "    count = df_alcohol_sales[x].isna().sum()\n",
    "    if count > 0:\n",
    "        isna_columns.append(x)\n",
    "\n",
    "print(\"There are\", len(isna_columns), 'columns with missing values.')"
   ]
  },
  {
   "cell_type": "code",
   "execution_count": 206,
   "metadata": {},
   "outputs": [
    {
     "data": {
      "image/png": "[encoded data removed]",
      "text/plain": [
       "<Figure size 1000x600 with 1 Axes>"
      ]
     },
     "metadata": {},
     "output_type": "display_data"
    }
   ],
   "source": [
    "df_alcohol_sales['DATE'] = pd.to_datetime(df_alcohol_sales['DATE'])\n",
    "df_alcohol_sales = df_alcohol_sales.sort_values('DATE')\n",
    "plt.figure(figsize=(10, 6))\n",
    "plt.hist(df_alcohol_sales['DATE'])\n",
    "plt.title('Alcohol Sales Over Time')\n",
    "plt.xlabel('Date')\n",
    "plt.ylabel('Sales')\n",
    "plt.show()"
   ]
  },
  {
   "cell_type": "markdown",
   "metadata": {},
   "source": [
    "According to the exploration of the dataset, we have learned that there are 2 features total. One of these features is an independent variables: DATE, and the other is a dependent variable, alcohol sales. The data in this dataset is raw data. It has not yet been pre processed, we can tell that it hasn't been pre processed since the 'DATE' column is an object type instead of DATE type. The dependent variable of alcohol sales is a numerical variable. "
   ]
  },
  {
   "cell_type": "markdown",
   "metadata": {},
   "source": [
    "# B. Pre Processing"
   ]
  },
  {
   "cell_type": "markdown",
   "metadata": {},
   "source": [
    "The first step in pre processing, is changing the 'DATE' column from the object type to date form so we are able to use the data for processing in later steps. This is done below. Additionally, we will sort the data by its date in ascending order. I did this referencing the pandas documentation[1] and [2]."
   ]
  },
  {
   "cell_type": "code",
   "execution_count": 207,
   "metadata": {},
   "outputs": [],
   "source": [
    "df_alcohol_sales['DATE'] = pd.to_datetime(df_alcohol_sales['DATE'])\n",
    "\n",
    "df_alcohol_sales = df_alcohol_sales.sort_values('DATE')\n",
    "\n"
   ]
  },
  {
   "cell_type": "markdown",
   "metadata": {},
   "source": [
    "Next, we will standardize the numerical variable of alcohol sales. "
   ]
  },
  {
   "cell_type": "code",
   "execution_count": 208,
   "metadata": {},
   "outputs": [
    {
     "name": "stdout",
     "output_type": "stream",
     "text": [
      "         DATE  S4248SM144NCEN\n",
      "0  1992-01-01       -1.519215\n",
      "1  1992-02-01       -1.519558\n",
      "2  1992-03-01       -1.332890\n",
      "3  1992-04-01       -1.140046\n",
      "4  1992-05-01       -1.257742\n",
      "5  1992-06-01       -1.152056\n",
      "6  1992-07-01       -1.173673\n",
      "7  1992-08-01       -1.286566\n",
      "8  1992-09-01       -1.290341\n",
      "9  1992-10-01       -1.244703\n",
      "10 1992-11-01       -1.251223\n",
      "11 1992-12-01       -1.012398\n",
      "12 1993-01-01       -1.666078\n",
      "13 1993-02-01       -1.587156\n",
      "14 1993-03-01       -1.278674\n",
      "15 1993-04-01       -1.204213\n",
      "16 1993-05-01       -1.228233\n",
      "17 1993-06-01       -1.094751\n",
      "18 1993-07-01       -1.176418\n",
      "19 1993-08-01       -1.176762\n"
     ]
    }
   ],
   "source": [
    "\n",
    "df_alcohol_sales['S4248SM144NCEN'] = (df_alcohol_sales['S4248SM144NCEN'] - df_alcohol_sales['S4248SM144NCEN'].mean()) / df_alcohol_sales['S4248SM144NCEN'].std()\n",
    "\n",
    "print(df_alcohol_sales.head(20))\n"
   ]
  },
  {
   "cell_type": "markdown",
   "metadata": {},
   "source": [
    "Lastly, we replace the NaN values with the emprical mean."
   ]
  },
  {
   "cell_type": "code",
   "execution_count": 209,
   "metadata": {},
   "outputs": [],
   "source": [
    "\n",
    "empirical_median = df_alcohol_sales['S4248SM144NCEN'].median()\n",
    "df_alcohol_sales.replace({'S4248SM144NCEN':'NaN'}, {'S4248SM144NCEN': empirical_median}, inplace=True)"
   ]
  },
  {
   "cell_type": "markdown",
   "metadata": {},
   "source": [
    "# C. Feature Extraction/ Feature Engineering"
   ]
  },
  {
   "cell_type": "markdown",
   "metadata": {},
   "source": [
    "Referenced the medium article on feature engineering for this portion of the assignment. [3]"
   ]
  },
  {
   "cell_type": "markdown",
   "metadata": {},
   "source": [
    "First, I used the datetime functionality to add features to represent the year, month, day, day of week, and quarter. This will allow us to see if these features affect the alcohol sale. I also used the rolling mean/rolling STD. The rolling window calculates the mean and STD of the window of days three days ahead of the current date and three days behind the current date. "
   ]
  },
  {
   "cell_type": "markdown",
   "metadata": {},
   "source": [
    "I also added 3 shifted lag featuers. This can help to notice trends at reoccuring times, such as everyday at 4 pm. "
   ]
  },
  {
   "cell_type": "code",
   "execution_count": 210,
   "metadata": {},
   "outputs": [],
   "source": [
    "df_alcohol_sales['year'] = df_alcohol_sales['DATE'].dt.year\n",
    "df_alcohol_sales['month'] = df_alcohol_sales['DATE'].dt.month\n",
    "df_alcohol_sales['day'] = df_alcohol_sales['DATE'].dt.day\n",
    "df_alcohol_sales['day_of_week'] = df_alcohol_sales['DATE'].dt.dayofweek\n",
    "df_alcohol_sales['quarter'] = df_alcohol_sales['DATE'].dt.quarter\n",
    "\n",
    "df_alcohol_sales['rolling_mean'] = df_alcohol_sales['S4248SM144NCEN'].rolling(window=3).mean()\n",
    "df_alcohol_sales['rolling_std'] = df_alcohol_sales['S4248SM144NCEN'].rolling(window=3).std()\n",
    "\n",
    "df_alcohol_sales['lag_1'] = df_alcohol_sales['S4248SM144NCEN'].shift(1)\n",
    "df_alcohol_sales['lag_2'] = df_alcohol_sales['S4248SM144NCEN'].shift(2)\n",
    "df_alcohol_sales['lag_3'] = df_alcohol_sales['S4248SM144NCEN'].shift(3)\n"
   ]
  },
  {
   "cell_type": "markdown",
   "metadata": {},
   "source": [
    "Next, I standardized the data using the calculated means, stds, and lags. "
   ]
  },
  {
   "cell_type": "code",
   "execution_count": 211,
   "metadata": {},
   "outputs": [],
   "source": [
    "scaler = StandardScaler()\n",
    "df_alcohol_sales[['S4248SM144NCEN', 'lag_1', 'lag_2', 'lag_3', 'rolling_mean', 'rolling_std']] = scaler.fit_transform(\n",
    "    df_alcohol_sales[['S4248SM144NCEN', 'lag_1', 'lag_2', 'lag_3', 'rolling_mean', 'rolling_std']]\n",
    ")"
   ]
  },
  {
   "cell_type": "markdown",
   "metadata": {},
   "source": [
    "Finally, here is the feature engineered data. "
   ]
  },
  {
   "cell_type": "code",
   "execution_count": 212,
   "metadata": {},
   "outputs": [
    {
     "name": "stdout",
     "output_type": "stream",
     "text": [
      "         DATE  S4248SM144NCEN  year  month  day  day_of_week  quarter  \\\n",
      "3  1992-04-01       -1.141804  1992      4    1            2        2   \n",
      "4  1992-05-01       -1.259682  1992      5    1            4        2   \n",
      "5  1992-06-01       -1.153832  1992      6    1            0        2   \n",
      "6  1992-07-01       -1.175483  1992      7    1            2        3   \n",
      "7  1992-08-01       -1.288550  1992      8    1            5        3   \n",
      "8  1992-09-01       -1.292330  1992      9    1            1        3   \n",
      "9  1992-10-01       -1.246623  1992     10    1            3        4   \n",
      "10 1992-11-01       -1.253152  1992     11    1            6        4   \n",
      "11 1992-12-01       -1.013959  1992     12    1            1        4   \n",
      "12 1993-01-01       -1.668647  1993      1    1            4        1   \n",
      "13 1993-02-01       -1.589604  1993      2    1            0        1   \n",
      "14 1993-03-01       -1.280646  1993      3    1            0        1   \n",
      "15 1993-04-01       -1.206070  1993      4    1            3        2   \n",
      "16 1993-05-01       -1.230126  1993      5    1            5        2   \n",
      "17 1993-06-01       -1.096439  1993      6    1            1        2   \n",
      "18 1993-07-01       -1.178233  1993      7    1            3        3   \n",
      "19 1993-08-01       -1.178576  1993      8    1            6        3   \n",
      "20 1993-09-01       -1.210537  1993      9    1            2        3   \n",
      "21 1993-10-01       -1.254527  1993     10    1            4        4   \n",
      "22 1993-11-01       -1.163798  1993     11    1            0        4   \n",
      "\n",
      "    rolling_mean  rolling_std     lag_1     lag_2     lag_3  \n",
      "3      -1.390773    -0.353612 -1.331839 -1.524630 -1.526556  \n",
      "4      -1.299571    -0.820102 -1.138712 -1.335961 -1.526905  \n",
      "5      -1.236578    -0.983574 -1.256581 -1.141049 -1.337107  \n",
      "6      -1.248292    -1.028580 -1.150740 -1.260008 -1.141029  \n",
      "7      -1.258332    -0.945937 -1.172389 -1.153188 -1.260700  \n",
      "8      -1.306504    -0.975859 -1.285447 -1.175037 -1.153240  \n",
      "9      -1.331247    -1.182313 -1.289227 -1.289140 -1.175221  \n",
      "10     -1.318935    -1.185572 -1.243523 -1.292955 -1.290007  \n",
      "11     -1.222114    -0.624353 -1.250052 -1.246829 -1.293844  \n",
      "12     -1.368899     0.356996 -1.010877 -1.253418 -1.247442  \n",
      "13     -1.485920     0.488238 -1.665515 -1.012033 -1.254071  \n",
      "14     -1.578677    -0.278220 -1.586477 -1.672721 -1.011241  \n",
      "15     -1.417787    -0.286708 -1.277543 -1.592953 -1.675883  \n",
      "16     -1.292757    -1.118438 -1.202973 -1.281164 -1.595637  \n",
      "17     -1.228689    -0.951380 -1.227028 -1.205904 -1.281982  \n",
      "18     -1.219007    -0.970822 -1.093351 -1.230181 -1.206272  \n",
      "19     -1.201077    -1.071841 -1.175138 -1.095269 -1.230695  \n",
      "20     -1.240761    -1.216610 -1.175482 -1.177812 -1.094975  \n",
      "21     -1.267297    -1.118080 -1.207441 -1.178159 -1.178012  \n",
      "22     -1.262157    -1.081662 -1.251427 -1.210413 -1.178361  \n"
     ]
    }
   ],
   "source": [
    "df_alcohol_sales = df_alcohol_sales.dropna()\n",
    "print(df_alcohol_sales.head(20))"
   ]
  },
  {
   "cell_type": "markdown",
   "metadata": {},
   "source": [
    "# D. Processing of Dataset using two different machine learning methods"
   ]
  },
  {
   "cell_type": "markdown",
   "metadata": {},
   "source": [
    "Method 1: Linear Regression"
   ]
  },
  {
   "cell_type": "markdown",
   "metadata": {},
   "source": [
    "To execute the least squares regression training, I used articles [4] and [5] listed in the bibliography below. "
   ]
  },
  {
   "cell_type": "code",
   "execution_count": 213,
   "metadata": {},
   "outputs": [
    {
     "name": "stdout",
     "output_type": "stream",
     "text": [
      "        DATE  S4248SM144NCEN  year  month  day  day_of_week  quarter  \\\n",
      "3 1992-04-01       -1.141804  1992      4    1            2        2   \n",
      "4 1992-05-01       -1.259682  1992      5    1            4        2   \n",
      "5 1992-06-01       -1.153832  1992      6    1            0        2   \n",
      "6 1992-07-01       -1.175483  1992      7    1            2        3   \n",
      "7 1992-08-01       -1.288550  1992      8    1            5        3   \n",
      "\n",
      "   rolling_mean  rolling_std     lag_1     lag_2     lag_3  \\\n",
      "3     -1.390773    -0.353612 -1.331839 -1.524630 -1.526556   \n",
      "4     -1.299571    -0.820102 -1.138712 -1.335961 -1.526905   \n",
      "5     -1.236578    -0.983574 -1.256581 -1.141049 -1.337107   \n",
      "6     -1.248292    -1.028580 -1.150740 -1.260008 -1.141029   \n",
      "7     -1.258332    -0.945937 -1.172389 -1.153188 -1.260700   \n",
      "\n",
      "   Linear Regression Prediction  \n",
      "3                     -1.141804  \n",
      "4                     -1.259682  \n",
      "5                     -1.153832  \n",
      "6                     -1.175483  \n",
      "7                     -1.288550  \n"
     ]
    },
    {
     "data": {
      "image/png": "[encoded data removed]",
      "text/plain": [
       "<Figure size 1200x600 with 1 Axes>"
      ]
     },
     "metadata": {},
     "output_type": "display_data"
    }
   ],
   "source": [
    "target ='S4248SM144NCEN'\n",
    "features = ['year', 'month', 'day', 'day_of_week', 'quarter', 'rolling_mean', 'rolling_std', 'lag_1', 'lag_2', 'lag_3']\n",
    "X = df_alcohol_sales[features]\n",
    "y = df_alcohol_sales[target]\n",
    "\n",
    "lr_model = make_pipeline(StandardScaler(), LinearRegression())\n",
    "kf = KFold(n_splits=5, shuffle=True, random_state=42)\n",
    "y_pred = cross_val_predict(lr_model, X, y, cv=kf)\n",
    "df_alcohol_sales['Linear Regression Prediction'] = y_pred\n",
    "print(df_alcohol_sales.head())\n",
    "\n",
    "fig, ax = plt.subplots(figsize=(12, 6))\n",
    "\n",
    "sns.histplot(df_alcohol_sales['S4248SM144NCEN'], bins=30, kde=False, color='blue', label='Actual Values', ax=ax)\n",
    "\n",
    "sns.lineplot(x=df_alcohol_sales['DATE'], y=df_alcohol_sales['Linear Regression Prediction'], color='red', label='Best Fit Line', ax=ax)\n",
    "\n",
    "plt.xlabel('Date')\n",
    "plt.ylabel('Alcohol Sales')\n",
    "plt.title('Actual Values (Histogram) and Best Fit Line Over Time')\n",
    "\n",
    "plt.legend()\n",
    "plt.show()"
   ]
  },
  {
   "cell_type": "markdown",
   "metadata": {},
   "source": [
    "Method 2: Ridge Regression"
   ]
  },
  {
   "cell_type": "markdown",
   "metadata": {},
   "source": [
    "To execute the Ridge regression, I referenced articles [8] and [9]"
   ]
  },
  {
   "cell_type": "code",
   "execution_count": 216,
   "metadata": {},
   "outputs": [
    {
     "name": "stdout",
     "output_type": "stream",
     "text": [
      "         DATE  S4248SM144NCEN  year  month  day  day_of_week  quarter  \\\n",
      "3  1992-04-01       -1.141804  1992      4    1            2        2   \n",
      "4  1992-05-01       -1.259682  1992      5    1            4        2   \n",
      "5  1992-06-01       -1.153832  1992      6    1            0        2   \n",
      "6  1992-07-01       -1.175483  1992      7    1            2        3   \n",
      "7  1992-08-01       -1.288550  1992      8    1            5        3   \n",
      "8  1992-09-01       -1.292330  1992      9    1            1        3   \n",
      "9  1992-10-01       -1.246623  1992     10    1            3        4   \n",
      "10 1992-11-01       -1.253152  1992     11    1            6        4   \n",
      "11 1992-12-01       -1.013959  1992     12    1            1        4   \n",
      "12 1993-01-01       -1.668647  1993      1    1            4        1   \n",
      "13 1993-02-01       -1.589604  1993      2    1            0        1   \n",
      "14 1993-03-01       -1.280646  1993      3    1            0        1   \n",
      "15 1993-04-01       -1.206070  1993      4    1            3        2   \n",
      "16 1993-05-01       -1.230126  1993      5    1            5        2   \n",
      "17 1993-06-01       -1.096439  1993      6    1            1        2   \n",
      "18 1993-07-01       -1.178233  1993      7    1            3        3   \n",
      "19 1993-08-01       -1.178576  1993      8    1            6        3   \n",
      "20 1993-09-01       -1.210537  1993      9    1            2        3   \n",
      "21 1993-10-01       -1.254527  1993     10    1            4        4   \n",
      "22 1993-11-01       -1.163798  1993     11    1            0        4   \n",
      "\n",
      "    rolling_mean  rolling_std     lag_1     lag_2     lag_3  \\\n",
      "3      -1.390773    -0.353612 -1.331839 -1.524630 -1.526556   \n",
      "4      -1.299571    -0.820102 -1.138712 -1.335961 -1.526905   \n",
      "5      -1.236578    -0.983574 -1.256581 -1.141049 -1.337107   \n",
      "6      -1.248292    -1.028580 -1.150740 -1.260008 -1.141029   \n",
      "7      -1.258332    -0.945937 -1.172389 -1.153188 -1.260700   \n",
      "8      -1.306504    -0.975859 -1.285447 -1.175037 -1.153240   \n",
      "9      -1.331247    -1.182313 -1.289227 -1.289140 -1.175221   \n",
      "10     -1.318935    -1.185572 -1.243523 -1.292955 -1.290007   \n",
      "11     -1.222114    -0.624353 -1.250052 -1.246829 -1.293844   \n",
      "12     -1.368899     0.356996 -1.010877 -1.253418 -1.247442   \n",
      "13     -1.485920     0.488238 -1.665515 -1.012033 -1.254071   \n",
      "14     -1.578677    -0.278220 -1.586477 -1.672721 -1.011241   \n",
      "15     -1.417787    -0.286708 -1.277543 -1.592953 -1.675883   \n",
      "16     -1.292757    -1.118438 -1.202973 -1.281164 -1.595637   \n",
      "17     -1.228689    -0.951380 -1.227028 -1.205904 -1.281982   \n",
      "18     -1.219007    -0.970822 -1.093351 -1.230181 -1.206272   \n",
      "19     -1.201077    -1.071841 -1.175138 -1.095269 -1.230695   \n",
      "20     -1.240761    -1.216610 -1.175482 -1.177812 -1.094975   \n",
      "21     -1.267297    -1.118080 -1.207441 -1.178159 -1.178012   \n",
      "22     -1.262157    -1.081662 -1.251427 -1.210413 -1.178361   \n",
      "\n",
      "    Linear Regression Prediction  ridge_predictions  \n",
      "3                      -1.141804          -1.182268  \n",
      "4                      -1.259682          -1.280873  \n",
      "5                      -1.153832          -1.159209  \n",
      "6                      -1.175483          -1.202187  \n",
      "7                      -1.288550          -1.304505  \n",
      "8                      -1.292330          -1.287270  \n",
      "9                      -1.246623          -1.264570  \n",
      "10                     -1.253152          -1.266103  \n",
      "11                     -1.013959          -1.019840  \n",
      "12                     -1.668647          -1.686989  \n",
      "13                     -1.589604          -1.595449  \n",
      "14                     -1.280646          -1.292681  \n",
      "15                     -1.206070          -1.237307  \n",
      "16                     -1.230126          -1.246049  \n",
      "17                     -1.096439          -1.101730  \n",
      "18                     -1.178233          -1.199564  \n",
      "19                     -1.178576          -1.195772  \n",
      "20                     -1.210537          -1.203738  \n",
      "21                     -1.254527          -1.266783  \n",
      "22                     -1.163798          -1.159636  \n"
     ]
    },
    {
     "data": {
      "image/png": "[encoded data removed]",
      "text/plain": [
       "<Figure size 1200x600 with 1 Axes>"
      ]
     },
     "metadata": {},
     "output_type": "display_data"
    }
   ],
   "source": [
    "c =[0.1, 1.0, 10.0]\n",
    "ridge_cv = RidgeCV(alphas = c, store_cv_values=True)\n",
    "ridge_cv.fit(X, y)\n",
    "best_c = ridge_cv.alpha_\n",
    "ridge = RidgeCV(alphas = [best_c])\n",
    "ridge.fit(X, y)\n",
    "cv_results = cross_val_score(ridge, X, y, cv=5)  # You can adjust the number of folds (cv) as needed\n",
    "average_cv_score = cv_results.mean()\n",
    "df_alcohol_sales['ridge_predictions'] = ridge.predict(X)\n",
    "print(df_alcohol_sales.head(20))\n",
    "\n",
    "fig, ax = plt.subplots(figsize=(12, 6))\n",
    "\n",
    "sns.histplot(df_alcohol_sales['S4248SM144NCEN'], bins=30, kde=False, color='blue', label='Actual Values', ax=ax)\n",
    "\n",
    "sns.lineplot(x=df_alcohol_sales['DATE'], y=df_alcohol_sales['ridge_predictions'], color='red', label='Best Fit Line', ax=ax)\n",
    "\n",
    "plt.xlabel('Date')\n",
    "plt.ylabel('Alcohol Sales')\n",
    "plt.title('Actual Values (Histogram) and Best Fit Line Over Time')\n",
    "\n",
    "plt.legend()\n",
    "plt.show()"
   ]
  },
  {
   "cell_type": "markdown",
   "metadata": {},
   "source": [
    "# E. Comparative Analysis of the two methods"
   ]
  },
  {
   "cell_type": "markdown",
   "metadata": {},
   "source": [
    "Used articles [6] and [7] for this section"
   ]
  },
  {
   "cell_type": "markdown",
   "metadata": {},
   "source": [
    "Metrics For Linear Regression"
   ]
  },
  {
   "cell_type": "code",
   "execution_count": 214,
   "metadata": {},
   "outputs": [
    {
     "name": "stdout",
     "output_type": "stream",
     "text": [
      "Mean Squared Error: 7.856485133245301e-30\n",
      "R2 Score: 1.0\n"
     ]
    }
   ],
   "source": [
    "#Mean squared error\n",
    "mse = mean_squared_error(y, df_alcohol_sales['Linear Regression Prediction'])\n",
    "print(f'Mean Squared Error: {mse}')\n",
    "\n",
    "#R2 metric\n",
    "r2 = r2_score(y, df_alcohol_sales['Linear Regression Prediction'])\n",
    "print(\"R2 Score:\", r2)"
   ]
  },
  {
   "cell_type": "markdown",
   "metadata": {},
   "source": [
    "Metrics for Ridge Regression"
   ]
  },
  {
   "cell_type": "code",
   "execution_count": 217,
   "metadata": {},
   "outputs": [
    {
     "name": "stdout",
     "output_type": "stream",
     "text": [
      "Mean Squared Error: 0.00018259162535381158\n",
      "R2 Score: 0.9998154175594958\n"
     ]
    }
   ],
   "source": [
    "#Mean squared error\n",
    "mse = mean_squared_error(y, df_alcohol_sales['ridge_predictions'])\n",
    "print(f'Mean Squared Error: {mse}')\n",
    "\n",
    "#R2 metric\n",
    "r2 = r2_score(y, df_alcohol_sales['ridge_predictions'])\n",
    "print(\"R2 Score:\", r2)"
   ]
  },
  {
   "cell_type": "markdown",
   "metadata": {},
   "source": [
    "# F. Discussion on ethical isues"
   ]
  },
  {
   "cell_type": "markdown",
   "metadata": {},
   "source": [
    "# G. Bibliography"
   ]
  },
  {
   "cell_type": "markdown",
   "metadata": {},
   "source": [
    "[1] https://pandas.pydata.org/docs/user_guide/timeseries.html\n",
    "[2] https://pandas.pydata.org/docs/reference/api/pandas.to_datetime.html\n",
    "[3] https://medium.com/data-science-at-microsoft/introduction-to-feature-engineering-for-time-series-forecasting-620aa55fcab0\n",
    "[4] https://pythonnumericalmethods.berkeley.edu/notebooks/chapter16.04-Least-Squares-Regression-in-Python.html\n",
    "[5]https://medium.com/datasparq-technology/a-least-squares-solution-to-time-series-forecasting-e438a6d510fa\n",
    "[6] https://www.dataquest.io/blog/understanding-regression-error-metrics/\n",
    "[7]https://thecleverprogrammer.com/2021/06/22/r2-score-in-machine-learning/\n",
    "[8] https://scikit-learn.org/stable/modules/generated/sklearn.linear_model.Ridge.html\n",
    "[9] https://medium.com/analytics-vidhya/ridge-and-lasso-regression-in-python-60cf1af69cfe\n"
   ]
  }
 ],
 "metadata": {
  "kernelspec": {
   "display_name": "Python 3",
   "language": "python",
   "name": "python3"
  },
  "language_info": {
   "codemirror_mode": {
    "name": "ipython",
    "version": 3
   },
   "file_extension": ".py",
   "mimetype": "text/x-python",
   "name": "python",
   "nbconvert_exporter": "python",
   "pygments_lexer": "ipython3",
   "version": "3.9.6"
  }
 },
 "nbformat": 4,
 "nbformat_minor": 2
}
